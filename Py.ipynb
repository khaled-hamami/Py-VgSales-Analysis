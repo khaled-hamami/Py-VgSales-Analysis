{
 "cells": [
  {
   "cell_type": "code",
   "execution_count": null,
   "metadata": {},
   "outputs": [],
   "source": [
    "import numpy as np\n",
    "import pandas as pd\n",
    "import matplotlib.pyplot as plt\n",
    "import seaborn as sns\n",
    "sns.set(style=\"darkgrid\")"
   ]
  },
  {
   "cell_type": "code",
   "execution_count": null,
   "metadata": {},
   "outputs": [],
   "source": [
    "pd.__version__"
   ]
  },
  {
   "cell_type": "code",
   "execution_count": null,
   "metadata": {},
   "outputs": [],
   "source": [
    "data = pd.read_csv('vgsales.csv')"
   ]
  },
  {
   "cell_type": "code",
   "execution_count": null,
   "metadata": {},
   "outputs": [],
   "source": [
    "data.head(10)\n"
   ]
  },
  {
   "cell_type": "code",
   "execution_count": null,
   "metadata": {},
   "outputs": [],
   "source": [
    "print(data)"
   ]
  },
  {
   "cell_type": "code",
   "execution_count": null,
   "metadata": {},
   "outputs": [],
   "source": [
    "data.sample(10).T"
   ]
  },
  {
   "cell_type": "code",
   "execution_count": null,
   "metadata": {},
   "outputs": [],
   "source": [
    "data.tail(25)"
   ]
  },
  {
   "cell_type": "code",
   "execution_count": null,
   "metadata": {},
   "outputs": [],
   "source": [
    "data.shape"
   ]
  },
  {
   "cell_type": "code",
   "execution_count": null,
   "metadata": {},
   "outputs": [],
   "source": [
    "data.columns"
   ]
  },
  {
   "cell_type": "code",
   "execution_count": null,
   "metadata": {},
   "outputs": [],
   "source": [
    "data.info"
   ]
  },
  {
   "cell_type": "code",
   "execution_count": null,
   "metadata": {},
   "outputs": [],
   "source": [
    "data.describe"
   ]
  },
  {
   "cell_type": "code",
   "execution_count": null,
   "metadata": {},
   "outputs": [],
   "source": [
    "data.describe(include=[object])"
   ]
  },
  {
   "cell_type": "code",
   "execution_count": null,
   "metadata": {},
   "outputs": [],
   "source": [
    "data.Year.hist(bins=25, color='purple')\n",
    "plt.title('Histogram of Year')\n",
    "plt.xlabel('Year')\n",
    "plt.ylabel('Frequency')\n",
    "plt.show()\n",
    "plt.savefig(\"Histograme.png\")"
   ]
  },
  {
   "cell_type": "code",
   "execution_count": null,
   "metadata": {},
   "outputs": [],
   "source": [
    "sns.heatmap(data.corr(), cmap='coolwarm')\n",
    "plt.title('Video Game Sales')\n",
    "plt.xlabel('sales')\n",
    "plt.ylabel('sales')\n",
    "plt.savefig(\"Heatmap.png\")"
   ]
  },
  {
   "cell_type": "code",
   "execution_count": null,
   "metadata": {},
   "outputs": [],
   "source": [
    "Rank = data['Rank']\n",
    "Genre = data['Genre']\n",
    "plt.figure(figsize=(20, 60))\n",
    "plt.bar(Rank, Genre, color='blue')\n",
    "plt.title('Video Game Sales by Category')\n",
    "plt.xlabel('Category')\n",
    "plt.ylabel('Sales (in millions)')\n"
   ]
  },
  {
   "cell_type": "code",
   "execution_count": null,
   "metadata": {},
   "outputs": [],
   "source": [
    "\n",
    "Platform = data['Platform']\n",
    "plt.figure(figsize=(20, 6))\n",
    "plt.scatter(Platform, Rank,color='Green')\n",
    "plt.title('Global Video Game Sales by Platform')\n",
    "plt.xlabel('Platform')\n",
    "plt.ylabel('Rank')\n",
    "plt.xticks(rotation=45)\n",
    "plt.show()\n"
   ]
  },
  {
   "cell_type": "code",
   "execution_count": null,
   "metadata": {},
   "outputs": [],
   "source": [
    "\n",
    "\n",
    "plt.savefig(\"Dots.png\")"
   ]
  },
  {
   "cell_type": "code",
   "execution_count": null,
   "metadata": {},
   "outputs": [],
   "source": [
    "\n",
    "NA = data['NA_Sales']\n",
    "JP = data['JP_Sales']\n",
    "EU = data['EU_Sales']\n",
    "Other = data['Other_Sales']\n",
    "\n",
    "Year = data['Year']\n",
    "\n",
    "plt.figure(figsize=(20, 6))\n",
    "plt.plot(Year, NA, label='North America')\n",
    "plt.plot(Year, JP, label='Japan')\n",
    "plt.plot(Year, EU, label='Europe')\n",
    "plt.plot(Year, Other, label='Others')\n",
    "\n",
    "plt.title('Video Game Sales by Region')\n",
    "plt.xlabel('Year')\n",
    "plt.ylabel('Sales')\n",
    "plt.legend()\n",
    "plt.savefig(\"HorzinatalLines.png\")\n"
   ]
  },
  {
   "cell_type": "code",
   "execution_count": null,
   "metadata": {},
   "outputs": [],
   "source": [
    "data.Publisher.unique()"
   ]
  },
  {
   "cell_type": "code",
   "execution_count": null,
   "metadata": {},
   "outputs": [],
   "source": [
    "NA.sort_values().head(10)"
   ]
  },
  {
   "cell_type": "code",
   "execution_count": null,
   "metadata": {},
   "outputs": [],
   "source": [
    "sns.relplot(\n",
    "    x=\"Platform\" ,\n",
    "    y=\"Global_Sales\" ,\n",
    "    data=data ,\n",
    "    height=12 ,\n",
    "    color='#568AFF',\n",
    "    palette=\"CMRmap_r\",\n",
    "    edgecolor='cyan',\n",
    " \n",
    "    )\n",
    "plt.savefig(\"snsDots.png\")\n"
   ]
  },
  {
   "cell_type": "code",
   "execution_count": null,
   "metadata": {},
   "outputs": [],
   "source": [
    "sns.relplot(x=\"Year\",y=\"Genre\",data=data,kind=\"line\",markers=True,color='#CC1222')\n",
    "plt.savefig(\"Graph.png\")"
   ]
  },
  {
   "cell_type": "code",
   "execution_count": null,
   "metadata": {},
   "outputs": [],
   "source": [
    "plt.figure(figsize=(20, 6))\n",
    "plt.angle_spectrum(data=data,x=\"Rank\",color='red' )\n",
    "plt.savefig(\"Spectrum.png\")"
   ]
  },
  {
   "cell_type": "code",
   "execution_count": null,
   "metadata": {},
   "outputs": [],
   "source": [
    "sns.kdeplot(x=data[\"Year\"],y=data[\"Rank\"],height=20)\n",
    "plt.savefig(\"kdePot.png\")"
   ]
  },
  {
   "cell_type": "code",
   "execution_count": null,
   "metadata": {},
   "outputs": [],
   "source": [
    "sns.jointplot(x=\"Platform\", y=\"Year\", data=data,height=16,color='#777710')\n",
    "plt.savefig(\"jointPlot.png\")"
   ]
  },
  {
   "cell_type": "code",
   "execution_count": null,
   "metadata": {},
   "outputs": [],
   "source": [
    "newDATA=data.rename(columns={'NA_Sales':'NORTH_AMERICA_SALES','EU_Sales':'Europe_Sales','JP_Sales':'Japan_Sales'})\n"
   ]
  },
  {
   "cell_type": "code",
   "execution_count": null,
   "metadata": {},
   "outputs": [],
   "source": [
    "newDATA"
   ]
  },
  {
   "cell_type": "code",
   "execution_count": null,
   "metadata": {},
   "outputs": [],
   "source": [
    "data"
   ]
  },
  {
   "cell_type": "code",
   "execution_count": null,
   "metadata": {},
   "outputs": [],
   "source": [
    "row=dict({'Rank':16601,'Name':'GTA 6','Platform':'Pc','Genre':'Role-Playing','Publisher':'Rockstar Games','NORTH_AMERICA_SALES':'50','Global_Sales':'100.00'})\n",
    "newDATA=newDATA.append(row,ignore_index=True)"
   ]
  },
  {
   "cell_type": "code",
   "execution_count": null,
   "metadata": {},
   "outputs": [],
   "source": [
    "newDATA.tail(1)"
   ]
  },
  {
   "cell_type": "code",
   "execution_count": null,
   "metadata": {},
   "outputs": [],
   "source": [
    "newDATA=newDATA.sort_values(by=['Europe_Sales'],ascending=True)\n",
    "newDATA.head(10)"
   ]
  },
  {
   "cell_type": "code",
   "execution_count": null,
   "metadata": {},
   "outputs": [],
   "source": [
    "data['Publisher'].value_counts().head(15).plot(kind='pie' , autopct='%1.1f%%')\n",
    "plt.savefig(\"circle.png\")"
   ]
  },
  {
   "cell_type": "code",
   "execution_count": null,
   "metadata": {},
   "outputs": [],
   "source": [
    "data['Genre'].value_counts().head(50).plot(kind='barh')\n",
    "plt.savefig(\"barsHorizantel.png\")"
   ]
  },
  {
   "cell_type": "code",
   "execution_count": null,
   "metadata": {},
   "outputs": [],
   "source": [
    "data['Year'].value_counts().head(50).plot(kind='bar',stacked=True)\n",
    "plt.savefig(\"VeritcalBars.png\")"
   ]
  },
  {
   "cell_type": "code",
   "execution_count": null,
   "metadata": {},
   "outputs": [],
   "source": [
    "Groupe = data.groupby(['NA_Sales', 'EU_Sales','JP_Sales','Other_Sales','Global_Sales'], as_index=False).mean()"
   ]
  },
  {
   "cell_type": "code",
   "execution_count": null,
   "metadata": {},
   "outputs": [],
   "source": [
    "Groupe"
   ]
  },
  {
   "cell_type": "code",
   "execution_count": null,
   "metadata": {},
   "outputs": [],
   "source": [
    "sns.lineplot(data = Groupe ,x = 'Year', y='Rank', hue='Rank');\n",
    "plt.savefig(\"multiline.png\");"
   ]
  },
  {
   "cell_type": "code",
   "execution_count": null,
   "metadata": {},
   "outputs": [],
   "source": [
    "from IPython.display import Image\n"
   ]
  },
  {
   "cell_type": "code",
   "execution_count": null,
   "metadata": {},
   "outputs": [],
   "source": [
    "\n",
    "image_path = ''\n",
    "\n",
    "# Display the image\n",
    "Image(filename=image_path)"
   ]
  }
 ],
 "metadata": {
  "kernelspec": {
   "display_name": "Python 3",
   "language": "python",
   "name": "python3"
  },
  "language_info": {
   "codemirror_mode": {
    "name": "ipython",
    "version": 3
   },
   "file_extension": ".py",
   "mimetype": "text/x-python",
   "name": "python",
   "nbconvert_exporter": "python",
   "pygments_lexer": "ipython3",
   "version": "3.11.3"
  },
  "orig_nbformat": 4
 },
 "nbformat": 4,
 "nbformat_minor": 2
}
